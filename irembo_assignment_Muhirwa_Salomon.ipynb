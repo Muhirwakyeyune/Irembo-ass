{
  "nbformat": 4,
  "nbformat_minor": 0,
  "metadata": {
    "colab": {
      "provenance": [],
      "authorship_tag": "ABX9TyME61vymtTrIL8+xeVnQexS",
      "include_colab_link": true
    },
    "kernelspec": {
      "name": "python3",
      "display_name": "Python 3"
    },
    "language_info": {
      "name": "python"
    }
  },
  "cells": [
    {
      "cell_type": "markdown",
      "metadata": {
        "id": "view-in-github",
        "colab_type": "text"
      },
      "source": [
        "<a href=\"https://colab.research.google.com/github/Muhirwakyeyune/Irembo-ass/blob/main/irembo_assignment_Muhirwa_Salomon.ipynb\" target=\"_parent\"><img src=\"https://colab.research.google.com/assets/colab-badge.svg\" alt=\"Open In Colab\"/></a>"
      ]
    },
    {
      "cell_type": "markdown",
      "source": [
        "# ** Done by Muhirwa Salomon**\n",
        "\n",
        "\n",
        "```\n",
        "# This is formatted as code\n",
        "```\n",
        "\n",
        "\n",
        "This notebook implements Irembo Technical assessment\n",
        "\n",
        "the goal of this project is to implement a console-based service application, the\n",
        "Rica Service, which gathers information from applicants based on a provided\n",
        "service requirement document. The application is designed to collect details\n",
        "related to an import permit for the facilitation of commodity imports, adhering\n",
        "to specific regulatory and standards requirements"
      ],
      "metadata": {
        "id": "UKveomZAL6Zj"
      }
    },
    {
      "cell_type": "code",
      "execution_count": 19,
      "metadata": {
        "colab": {
          "base_uri": "https://localhost:8080/"
        },
        "id": "PgQTYgC8Ai76",
        "outputId": "f5697279-a2c5-4195-f44d-9473eeeaeb9c"
      },
      "outputs": [
        {
          "output_type": "stream",
          "name": "stdout",
          "text": [
            "Requirement already satisfied: Flask in /usr/local/lib/python3.10/dist-packages (2.2.5)\n",
            "Requirement already satisfied: Flask-Mail in /usr/local/lib/python3.10/dist-packages (0.9.1)\n",
            "Requirement already satisfied: Werkzeug>=2.2.2 in /usr/local/lib/python3.10/dist-packages (from Flask) (3.0.1)\n",
            "Requirement already satisfied: Jinja2>=3.0 in /usr/local/lib/python3.10/dist-packages (from Flask) (3.1.3)\n",
            "Requirement already satisfied: itsdangerous>=2.0 in /usr/local/lib/python3.10/dist-packages (from Flask) (2.1.2)\n",
            "Requirement already satisfied: click>=8.0 in /usr/local/lib/python3.10/dist-packages (from Flask) (8.1.7)\n",
            "Requirement already satisfied: blinker in /usr/lib/python3/dist-packages (from Flask-Mail) (1.4)\n",
            "Requirement already satisfied: MarkupSafe>=2.0 in /usr/local/lib/python3.10/dist-packages (from Jinja2>=3.0->Flask) (2.1.5)\n"
          ]
        }
      ],
      "source": [
        "!pip install Flask Flask-Mail\n"
      ]
    },
    {
      "cell_type": "code",
      "source": [
        "#!pip install numpy"
      ],
      "metadata": {
        "id": "KhQ1S5VeAoM2"
      },
      "execution_count": 20,
      "outputs": []
    },
    {
      "cell_type": "code",
      "source": [
        "#!pip install pytorch"
      ],
      "metadata": {
        "id": "XqdwezInKU49"
      },
      "execution_count": 21,
      "outputs": []
    },
    {
      "cell_type": "code",
      "source": [
        "from flask import Flask, render_template, request\n",
        "\n"
      ],
      "metadata": {
        "id": "wya8ubdmW78s"
      },
      "execution_count": 3,
      "outputs": []
    },
    {
      "cell_type": "markdown",
      "source": [],
      "metadata": {
        "id": "L8WGWIlNApaV"
      }
    },
    {
      "cell_type": "code",
      "source": [
        "\n",
        "class RICAService:\n",
        "    def __init__(self):\n",
        "        self.applicant_citizenship = None\n",
        "        self.identification_document_number = None\n",
        "        self.other_names = None\n",
        "        self.surname = None\n",
        "        self.nationality = None\n",
        "        self.passport_number = None\n",
        "        self.phone_number = None\n",
        "        self.email_address = None\n",
        "        self.business_owner_address = None\n",
        "        self.business_type = None\n",
        "        self.company_name = None\n",
        "        self.tin_number = None\n",
        "        self.registration_date = None\n",
        "        self.business_address = None\n",
        "        self.purpose_of_importation = None\n",
        "        self.specify_purpose = None\n",
        "        self.product_category = None\n",
        "        self.product_name = None\n",
        "        self.weight_kg = None\n",
        "        self.description_of_products = None\n",
        "        self.unit_of_measurement = None\n",
        "        self.quantity_of_products = None\n",
        "\n",
        "\n",
        "\n",
        "\n",
        "    def get_applicant_details(self):\n",
        "        print(\" Welcome to RICA Service application Portal \")\n",
        "\n",
        "        print(\"Enter Applicant Details:\")\n",
        "        self.applicant_citizenship = input(\"Citizenship (Rwandan/Foreigner): \").capitalize()\n",
        "        self.identification_document_number = input(\"Identification Document Number: \")\n",
        "        self.other_names = input(\" Given Name: \")\n",
        "        self.surname = input(\"Surname: \")\n",
        "        self.nationality = input(\"Nationality: \")\n",
        "\n",
        "        if self.applicant_citizenship == 'Foreigner':\n",
        "            self.passport_number = input(\"Passport Number: \")\n",
        "        elif self.applicant_citizenship == \"Rwandan\":\n",
        "           self.passport_number = input(\" National Identification Number \")\n",
        "        # else:\n",
        "        #     print(\"Sorry, we can’t find your identification data from NIDA system.\")\n",
        "        #     print(\"Please contact NIDA for more details.\")\n",
        "\n",
        "    def get_contact_details(self):\n",
        "        print(\"\\nEnter Contact Details:\")\n",
        "        self.phone_number = input(\"Phone Number: \")\n",
        "        self.email_address = input(\"Email Address: \")\n",
        "\n",
        "    def get_business_details(self):\n",
        "        print(\"\\nEnter Business Details:\")\n",
        "        self.business_owner_address = input(\"Business Owner Address: \")\n",
        "        self.business_type = input(\"Business Type (Retailer/Wholesale/Manufacturer): \").capitalize()\n",
        "        self.company_name = input(\"Company Name: \")\n",
        "        self.tin_number = input(\"TIN Number (9 digits): \")\n",
        "        self.registration_date = input(\"Registration Date: \")\n",
        "        self.business_address = input(\"Business Address: \")\n",
        "\n",
        "    def get_product_details(self):\n",
        "        print(\"\\nEnter Product Details:\")\n",
        "        self.purpose_of_importation = input(\"Purpose of Importation (Direct sale/Personal use/Trial use/Other): \").capitalize()\n",
        "\n",
        "        if self.purpose_of_importation == 'Other':\n",
        "            self.specify_purpose = input(\"Specify Purpose of Importation: \")\n",
        "\n",
        "        self.product_category = input(\"Product Category (General purpose/Construction materials/Chemicals): \").capitalize()\n",
        "        self.product_name = input(\"Product Name: \")\n",
        "        self.weight_kg = input(\"Weight (kg): \")\n",
        "        self.description_of_products = input(\"Description of Products: \")\n",
        "        self.unit_of_measurement = input(\"Unit of Measurement (Kgs/Tonnes): \").capitalize()\n",
        "        self.quantity_of_products = input(\"Quantity of Products: \")\n",
        "\n",
        "    def display_application_summary(self):\n",
        "        print(\"\\nApplication Summary:\")\n",
        "        print(f\"Citizenship: {self.applicant_citizenship}\")\n",
        "        print(f\"ID Document Number: {self.identification_document_number}\")\n",
        "        #print(f\"Other Names: {self.other_names}\")\n",
        "        print(f\"Surname: {self.surname}\")\n",
        "        print(f\"Nationality: {self.nationality}\")\n",
        "        print(f\"Passport Number: {self.passport_number}\")\n",
        "        print(f\"Phone Number: {self.phone_number}\")\n",
        "        print(f\"Email Address: {self.email_address}\")\n",
        "        print(f\"Business Owner Address: {self.business_owner_address}\")\n",
        "        print(f\"Business Type: {self.business_type}\")\n",
        "        print(f\"Company Name: {self.company_name}\")\n",
        "        print(f\"TIN Number: {self.tin_number}\")\n",
        "        print(f\"Registration Date: {self.registration_date}\")\n",
        "        print(f\"Business Address: {self.business_address}\")\n",
        "        print(f\"Purpose of Importation: {self.purpose_of_importation}\")\n",
        "        print(f\"Specify Purpose: {self.specify_purpose}\")\n",
        "        print(f\"Product Category: {self.product_category}\")\n",
        "        print(f\"Product Name: {self.product_name}\")\n",
        "        print(f\"Weight (kg): {self.weight_kg}\")\n",
        "        print(f\"Description of Products: {self.description_of_products}\")\n",
        "        print(f\"Unit of Measurement: {self.unit_of_measurement}\")\n",
        "        print(f\"Quantity of Products: {self.quantity_of_products}\")\n",
        "\n",
        "    def run_service(self):\n",
        "        self.get_applicant_details()\n",
        "        self.get_contact_details()\n",
        "        self.get_business_details()\n",
        "        self.get_product_details()\n",
        "        self.display_application_summary()\n",
        "\n",
        "# Creating an instance of the RICA Service class and run the service\n",
        "irembo_service = RICAService()\n",
        "irembo_service.run_service()\n"
      ],
      "metadata": {
        "colab": {
          "base_uri": "https://localhost:8080/"
        },
        "id": "oYBN2bGiCkdn",
        "outputId": "3bbdc856-01b7-4c58-f658-cd6c7c96f40f"
      },
      "execution_count": 4,
      "outputs": [
        {
          "output_type": "stream",
          "name": "stdout",
          "text": [
            " Welcome to RICA Service application Portal \n",
            "Enter Applicant Details:\n",
            "Citizenship (Rwandan/Foreigner): Rwandan\n",
            "Identification Document Number: 5678098754t\n",
            " Given Name: Muhirwa\n",
            "Surname: Salomon\n",
            "Nationality: Rwanda\n",
            " National Identification Number 1234668900\n",
            "\n",
            "Enter Contact Details:\n",
            "Phone Number: 078934890\n",
            "Email Address: smuhirwa@gmail.com\n",
            "\n",
            "Enter Business Details:\n",
            "Business Owner Address: Gisenyi\n",
            "Business Type (Retailer/Wholesale/Manufacturer): Manufacturer\n",
            "Company Name: KGDF\n",
            "TIN Number (9 digits): 123456789\n",
            "Registration Date: 22\n",
            "Business Address: Muhanga\n",
            "\n",
            "Enter Product Details:\n",
            "Purpose of Importation (Direct sale/Personal use/Trial use/Other): Other\n",
            "Specify Purpose of Importation: ftygueihjlv;kdhvghbxjnvkm.,fd\n",
            "Product Category (General purpose/Construction materials/Chemicals): Chemicals\n",
            "Product Name: fhghj\n",
            "Weight (kg): kg\n",
            "Description of Products: fgtyhkljkdhgcjkdl\n",
            "Unit of Measurement (Kgs/Tonnes): Kgs\n",
            "Quantity of Products: 500\n",
            "\n",
            "Application Summary:\n",
            "Citizenship: Rwandan\n",
            "ID Document Number: 5678098754t\n",
            "Surname: Salomon\n",
            "Nationality: Rwanda\n",
            "Passport Number: 1234668900\n",
            "Phone Number: 078934890\n",
            "Email Address: smuhirwa@gmail.com\n",
            "Business Owner Address: Gisenyi\n",
            "Business Type: Manufacturer\n",
            "Company Name: KGDF\n",
            "TIN Number: 123456789\n",
            "Registration Date: 22\n",
            "Business Address: Muhanga\n",
            "Purpose of Importation: Other\n",
            "Specify Purpose: ftygueihjlv;kdhvghbxjnvkm.,fd\n",
            "Product Category: Chemicals\n",
            "Product Name: fhghj\n",
            "Weight (kg): kg\n",
            "Description of Products: fgtyhkljkdhgcjkdl\n",
            "Unit of Measurement: Kgs\n",
            "Quantity of Products: 500\n"
          ]
        }
      ]
    },
    {
      "cell_type": "code",
      "source": [],
      "metadata": {
        "id": "wSG5R-FKZtre"
      },
      "execution_count": 4,
      "outputs": []
    },
    {
      "cell_type": "code",
      "source": [
        "!pip install --upgrade Flask Werkzeug\n"
      ],
      "metadata": {
        "colab": {
          "base_uri": "https://localhost:8080/"
        },
        "id": "62Pe_JA1GdU1",
        "outputId": "4238f3df-c8b4-46c2-8a50-94e918de9bcb"
      },
      "execution_count": 2,
      "outputs": [
        {
          "output_type": "stream",
          "name": "stdout",
          "text": [
            "Requirement already satisfied: Flask in /usr/local/lib/python3.10/dist-packages (2.2.5)\n",
            "Collecting Flask\n",
            "  Downloading flask-3.0.2-py3-none-any.whl (101 kB)\n",
            "\u001b[2K     \u001b[90m━━━━━━━━━━━━━━━━━━━━━━━━━━━━━━━━━━━━━━━━\u001b[0m \u001b[32m101.3/101.3 kB\u001b[0m \u001b[31m2.5 MB/s\u001b[0m eta \u001b[36m0:00:00\u001b[0m\n",
            "\u001b[?25hRequirement already satisfied: Werkzeug in /usr/local/lib/python3.10/dist-packages (3.0.1)\n",
            "Requirement already satisfied: Jinja2>=3.1.2 in /usr/local/lib/python3.10/dist-packages (from Flask) (3.1.3)\n",
            "Requirement already satisfied: itsdangerous>=2.1.2 in /usr/local/lib/python3.10/dist-packages (from Flask) (2.1.2)\n",
            "Requirement already satisfied: click>=8.1.3 in /usr/local/lib/python3.10/dist-packages (from Flask) (8.1.7)\n",
            "Collecting blinker>=1.6.2 (from Flask)\n",
            "  Downloading blinker-1.7.0-py3-none-any.whl (13 kB)\n",
            "Requirement already satisfied: MarkupSafe>=2.1.1 in /usr/local/lib/python3.10/dist-packages (from Werkzeug) (2.1.5)\n",
            "Installing collected packages: blinker, Flask\n",
            "  Attempting uninstall: blinker\n",
            "    Found existing installation: blinker 1.4\n",
            "\u001b[31mERROR: Cannot uninstall 'blinker'. It is a distutils installed project and thus we cannot accurately determine which files belong to it which would lead to only a partial uninstall.\u001b[0m\u001b[31m\n",
            "\u001b[0m"
          ]
        }
      ]
    },
    {
      "cell_type": "markdown",
      "source": [
        "**Presentation**\n",
        "\n",
        "The System is implemented in python Language using class named Irembom Service. the Irembo Service application provides a straightforward and interactive way to collect essential information from applicants. It covers key aspects such as personal details, contact information, business type, and product details. The inclusion of a business type input method enhances the user experience and ensures accurate categorization of businesses.\n"
      ],
      "metadata": {
        "id": "usUh8ghPJA78"
      }
    },
    {
      "cell_type": "code",
      "source": [
        "from flask import Flask, render_template, request\n",
        "\n",
        "app = Flask(__name__)\n",
        "rica_service = RICAService()\n",
        "\n",
        "@app.route('/', methods=['GET', 'POST'])\n",
        "def rica_index():\n",
        "    if request.method == 'POST':\n",
        "        # Your existing code for processing form data goes here\n",
        "\n",
        "        return render_template('summary.html', rica_service=rica_service)\n",
        "\n",
        "    return render_template('index.html')\n",
        "\n",
        "if __name__ == '__main__':\n",
        "    app.run(debug=True)\n"
      ],
      "metadata": {
        "colab": {
          "base_uri": "https://localhost:8080/"
        },
        "id": "HVQ0vqVzJCzA",
        "outputId": "66b042f4-15a9-4509-9cc3-a05e510e21db"
      },
      "execution_count": 6,
      "outputs": [
        {
          "output_type": "stream",
          "name": "stdout",
          "text": [
            " * Serving Flask app '__main__'\n",
            " * Debug mode: on\n"
          ]
        },
        {
          "output_type": "stream",
          "name": "stderr",
          "text": [
            "INFO:werkzeug:\u001b[31m\u001b[1mWARNING: This is a development server. Do not use it in a production deployment. Use a production WSGI server instead.\u001b[0m\n",
            " * Running on http://127.0.0.1:5000\n",
            "INFO:werkzeug:\u001b[33mPress CTRL+C to quit\u001b[0m\n",
            "INFO:werkzeug: * Restarting with stat\n"
          ]
        }
      ]
    },
    {
      "cell_type": "code",
      "source": [
        "from flask import Flask, render_template, request\n",
        "\n",
        "app = Flask(__name__)\n",
        "rica_service = RICAService()\n",
        "\n",
        "@app.route('/', methods=['GET', 'POST'])\n",
        "def rica_index():\n",
        "    if request.method == 'POST':\n",
        "        # Your existing code for processing form data goes here\n",
        "\n",
        "        return render_template('summary.html', rica_service=rica_service)\n",
        "\n",
        "    return render_template('index.html')\n",
        "\n",
        "if __name__ == '__main__':\n",
        "    app.run(debug=False)  # Set debug mode to False\n"
      ],
      "metadata": {
        "colab": {
          "base_uri": "https://localhost:8080/"
        },
        "id": "6LUv5HTIa4tn",
        "outputId": "57189e75-f91d-4ee6-eb14-94d74f22f631"
      },
      "execution_count": 7,
      "outputs": [
        {
          "output_type": "stream",
          "name": "stdout",
          "text": [
            " * Serving Flask app '__main__'\n",
            " * Debug mode: off\n"
          ]
        },
        {
          "output_type": "stream",
          "name": "stderr",
          "text": [
            "INFO:werkzeug:\u001b[31m\u001b[1mWARNING: This is a development server. Do not use it in a production deployment. Use a production WSGI server instead.\u001b[0m\n",
            " * Running on http://127.0.0.1:5000\n",
            "INFO:werkzeug:\u001b[33mPress CTRL+C to quit\u001b[0m\n"
          ]
        }
      ]
    },
    {
      "cell_type": "code",
      "source": [],
      "metadata": {
        "id": "eoOkueRdbFJ4"
      },
      "execution_count": null,
      "outputs": []
    }
  ]
}